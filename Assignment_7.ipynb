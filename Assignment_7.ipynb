{
 "cells": [
  {
   "cell_type": "code",
   "execution_count": 11,
   "id": "5939e953-effc-4ae3-a2c2-cc119690ec4c",
   "metadata": {},
   "outputs": [],
   "source": [
    "#streaming\n",
    "\n",
    "words = ['playing', 'matched']\n",
    "\n",
    "from nltk.stem import PorterStemmer"
   ]
  },
  {
   "cell_type": "code",
   "execution_count": 12,
   "id": "9b5574d1-72e6-47c7-be10-fce154841c2c",
   "metadata": {},
   "outputs": [],
   "source": [
    "st = PorterStemmer()"
   ]
  },
  {
   "cell_type": "code",
   "execution_count": 13,
   "id": "29e051c1-8f45-4ec3-a49c-023862f266fb",
   "metadata": {},
   "outputs": [
    {
     "name": "stdout",
     "output_type": "stream",
     "text": [
      "play\n",
      "match\n"
     ]
    }
   ],
   "source": [
    "for i in words:\n",
    "    root_word = st.stem(i)\n",
    "    print(root_word)"
   ]
  },
  {
   "cell_type": "code",
   "execution_count": 33,
   "id": "4f34a5a3-bdf9-4d60-a583-fa211046d84c",
   "metadata": {},
   "outputs": [
    {
     "name": "stderr",
     "output_type": "stream",
     "text": [
      "[nltk_data] Downloading package wordnet to\n",
      "[nltk_data]     C:\\Users\\athar\\AppData\\Roaming\\nltk_data...\n"
     ]
    },
    {
     "name": "stdout",
     "output_type": "stream",
     "text": [
      "dog\n",
      "playing\n",
      "matching\n",
      "baby\n",
      "foot\n"
     ]
    }
   ],
   "source": [
    "#Lemmitization\n",
    "import nltk\n",
    "nltk.download('wordnet')\n",
    "\n",
    "from nltk.stem import WordNetLemmatizer\n",
    "\n",
    "wnl = WordNetLemmatizer()\n",
    "\n",
    "list1 = ['dogs', 'playing', 'matching', 'babies', 'feet']\n",
    "for word in list1:\n",
    "    root = wnl.lemmatize(word)\n",
    "    print(root)"
   ]
  },
  {
   "cell_type": "code",
   "execution_count": 36,
   "id": "95f54e6a-aa9f-4f0a-93c6-0f56c5dd2512",
   "metadata": {},
   "outputs": [
    {
     "name": "stderr",
     "output_type": "stream",
     "text": [
      "[nltk_data] Downloading package stopwords to\n",
      "[nltk_data]     C:\\Users\\athar\\AppData\\Roaming\\nltk_data...\n",
      "[nltk_data]   Unzipping corpora\\stopwords.zip.\n"
     ]
    },
    {
     "data": {
      "text/plain": [
       "True"
      ]
     },
     "execution_count": 36,
     "metadata": {},
     "output_type": "execute_result"
    }
   ],
   "source": [
    "#Stopwordremoval\n",
    "import nltk\n",
    "nltk.download('stopwords')"
   ]
  },
  {
   "cell_type": "code",
   "execution_count": 38,
   "id": "8aa39c8c-0e7d-4e83-b659-697a060e7623",
   "metadata": {},
   "outputs": [
    {
     "name": "stdout",
     "output_type": "stream",
     "text": [
      "There\n",
      "tree\n",
      "near\n",
      "river\n"
     ]
    }
   ],
   "source": [
    "from nltk.corpus import stopwords\n",
    "en_stops = set (stopwords.words('english'))\n",
    "all_words = ['There', 'is', 'a', 'tree', 'near', 'the', 'river']\n",
    "\n",
    "for word in all_words:\n",
    "    if word not in en_stops:\n",
    "        print (word)"
   ]
  },
  {
   "cell_type": "code",
   "execution_count": 39,
   "id": "5cd1c0f8-6743-468f-b261-670cdf3d19d5",
   "metadata": {},
   "outputs": [
    {
     "name": "stdout",
     "output_type": "stream",
     "text": [
      "  (0, 2)\t1.0\n",
      "  (1, 1)\t1.0\n",
      "  (2, 0)\t1.0\n"
     ]
    }
   ],
   "source": [
    "from sklearn.feature_extraction.text import TfidfVectorizer\n",
    "\n",
    "d0 = 'Prajakta';\n",
    "d1 = 'Juee';\n",
    "d2 = 'Aditi';\n",
    "\n",
    "strings = [d0, d1, d2]\n",
    "\n",
    "tfidf = TfidfVectorizer()\n",
    "result = tfidf.fit_transform(strings)\n",
    "print (result)"
   ]
  },
  {
   "cell_type": "code",
   "execution_count": 42,
   "id": "9e629da2-dcb7-4ff7-b0dc-63ca285884ac",
   "metadata": {},
   "outputs": [
    {
     "ename": "NameError",
     "evalue": "name 'vectorizer' is not defined",
     "output_type": "error",
     "traceback": [
      "\u001b[1;31m---------------------------------------------------------------------------\u001b[0m",
      "\u001b[1;31mNameError\u001b[0m                                 Traceback (most recent call last)",
      "Cell \u001b[1;32mIn[42], line 5\u001b[0m\n\u001b[0;32m      1\u001b[0m \u001b[38;5;28;01mfrom\u001b[39;00m \u001b[38;5;21;01msklearn\u001b[39;00m\u001b[38;5;21;01m.\u001b[39;00m\u001b[38;5;21;01mfeature_extraction\u001b[39;00m\u001b[38;5;21;01m.\u001b[39;00m\u001b[38;5;21;01mtext\u001b[39;00m \u001b[38;5;28;01mimport\u001b[39;00m CountVectorizer\n\u001b[0;32m      3\u001b[0m \u001b[38;5;66;03m#Sample Documents\u001b[39;00m\n\u001b[0;32m      4\u001b[0m \u001b[38;5;66;03m#fit the vectorizer to the \u001b[39;00m\n\u001b[1;32m----> 5\u001b[0m tf_matrix \u001b[38;5;241m=\u001b[39m \u001b[43mvectorizer\u001b[49m\u001b[38;5;241m.\u001b[39mfit_transform(documents)\n\u001b[0;32m      6\u001b[0m terms \u001b[38;5;241m=\u001b[39m vectorizer\u001b[38;5;241m.\u001b[39mget_feature_names_out()\n\u001b[0;32m      7\u001b[0m tf_array \u001b[38;5;241m=\u001b[39m tf_matrix\u001b[38;5;241m.\u001b[39mtoarray()\n",
      "\u001b[1;31mNameError\u001b[0m: name 'vectorizer' is not defined"
     ]
    }
   ],
   "source": [
    "from sklearn.feature_extraction.text import CountVectorizer\n",
    "\n",
    "#Sample Documents\n",
    "#fit the vectorizer to the \n",
    "tf_matrix = vectorizer.fit_transform(documents)\n",
    "terms = vectorizer.get_feature_names_out()\n",
    "tf_array = tf_matrix.toarray()\n",
    "\n",
    "print('Term Frequency Matrix :', tf_array)\n",
    "print('\\n Terms :', terms)"
   ]
  },
  {
   "cell_type": "code",
   "execution_count": 46,
   "id": "d1740d0a-1bcb-4292-b726-64cc9421d5f4",
   "metadata": {},
   "outputs": [],
   "source": [
    "tfidf_vectorizer = TfidfVectorizer()"
   ]
  },
  {
   "cell_type": "code",
   "execution_count": 48,
   "id": "e0c32e33-eafc-40c5-b618-0f05be5b4c4f",
   "metadata": {},
   "outputs": [
    {
     "ename": "NameError",
     "evalue": "name 'docment' is not defined",
     "output_type": "error",
     "traceback": [
      "\u001b[1;31m---------------------------------------------------------------------------\u001b[0m",
      "\u001b[1;31mNameError\u001b[0m                                 Traceback (most recent call last)",
      "Cell \u001b[1;32mIn[48], line 1\u001b[0m\n\u001b[1;32m----> 1\u001b[0m tfidf_matrix \u001b[38;5;241m=\u001b[39m tfidf_vectorizer\u001b[38;5;241m.\u001b[39mfit_transform(\u001b[43mdocment\u001b[49m)\n",
      "\u001b[1;31mNameError\u001b[0m: name 'docment' is not defined"
     ]
    }
   ],
   "source": [
    "tfidf_matrix = tfidf_vectorizer.fit_transform(docment)"
   ]
  }
 ],
 "metadata": {
  "kernelspec": {
   "display_name": "Python 3 (ipykernel)",
   "language": "python",
   "name": "python3"
  },
  "language_info": {
   "codemirror_mode": {
    "name": "ipython",
    "version": 3
   },
   "file_extension": ".py",
   "mimetype": "text/x-python",
   "name": "python",
   "nbconvert_exporter": "python",
   "pygments_lexer": "ipython3",
   "version": "3.11.3"
  }
 },
 "nbformat": 4,
 "nbformat_minor": 5
}
