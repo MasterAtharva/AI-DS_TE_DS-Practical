{
 "cells": [
  {
   "cell_type": "code",
   "execution_count": 1,
   "id": "0d2d9a7e",
   "metadata": {},
   "outputs": [],
   "source": [
    "import pandas as pd\n",
    "import numpy as np"
   ]
  },
  {
   "cell_type": "code",
   "execution_count": 2,
   "id": "44b99060",
   "metadata": {},
   "outputs": [],
   "source": [
    "data= { 'ID' : [1, 2, 3, 4, 5, 6],\n",
    "       'Name' : ['Samantha', 'Adam', 'Emily', 'Michael','Jack', 'Sharvari'],\n",
    "       'Gender': ['Female', 'Male','Female','Male','Male', 'Female'],\n",
    "       'Age': [18, 19, 20, 19, 21, 18],\n",
    "       'class' : ['Junior', 'Senior', 'Junior', 'Junior', 'Freshman', 'Senior'],\n",
    "       'Major' : ['Arts', 'Business', 'Science', 'Engineering', 'Science', 'Engineering '],\n",
    "       \"GPA\": [8.2, 6.5, 9.8, 7.9, 8.6, 10.0], \n",
    "       'Score': [85, 90, 93, 75, 87, 80],\n",
    "       'attendance' : [90, 85,80, 95, 75, 70]}"
   ]
  },
  {
   "cell_type": "code",
   "execution_count": 3,
   "id": "6450d8da",
   "metadata": {},
   "outputs": [],
   "source": [
    "df = pd.DataFrame(data)"
   ]
  },
  {
   "cell_type": "code",
   "execution_count": 4,
   "id": "074d97d3",
   "metadata": {},
   "outputs": [
    {
     "data": {
      "text/html": [
       "<div>\n",
       "<style scoped>\n",
       "    .dataframe tbody tr th:only-of-type {\n",
       "        vertical-align: middle;\n",
       "    }\n",
       "\n",
       "    .dataframe tbody tr th {\n",
       "        vertical-align: top;\n",
       "    }\n",
       "\n",
       "    .dataframe thead th {\n",
       "        text-align: right;\n",
       "    }\n",
       "</style>\n",
       "<table border=\"1\" class=\"dataframe\">\n",
       "  <thead>\n",
       "    <tr style=\"text-align: right;\">\n",
       "      <th></th>\n",
       "      <th>ID</th>\n",
       "      <th>Name</th>\n",
       "      <th>Gender</th>\n",
       "      <th>Age</th>\n",
       "      <th>class</th>\n",
       "      <th>Major</th>\n",
       "      <th>GPA</th>\n",
       "      <th>Score</th>\n",
       "      <th>attendance</th>\n",
       "    </tr>\n",
       "  </thead>\n",
       "  <tbody>\n",
       "    <tr>\n",
       "      <th>0</th>\n",
       "      <td>1</td>\n",
       "      <td>Samantha</td>\n",
       "      <td>Female</td>\n",
       "      <td>18</td>\n",
       "      <td>Junior</td>\n",
       "      <td>Arts</td>\n",
       "      <td>8.2</td>\n",
       "      <td>85</td>\n",
       "      <td>90</td>\n",
       "    </tr>\n",
       "    <tr>\n",
       "      <th>1</th>\n",
       "      <td>2</td>\n",
       "      <td>Adam</td>\n",
       "      <td>Male</td>\n",
       "      <td>19</td>\n",
       "      <td>Senior</td>\n",
       "      <td>Business</td>\n",
       "      <td>6.5</td>\n",
       "      <td>90</td>\n",
       "      <td>85</td>\n",
       "    </tr>\n",
       "    <tr>\n",
       "      <th>2</th>\n",
       "      <td>3</td>\n",
       "      <td>Emily</td>\n",
       "      <td>Female</td>\n",
       "      <td>20</td>\n",
       "      <td>Junior</td>\n",
       "      <td>Science</td>\n",
       "      <td>9.8</td>\n",
       "      <td>93</td>\n",
       "      <td>80</td>\n",
       "    </tr>\n",
       "    <tr>\n",
       "      <th>3</th>\n",
       "      <td>4</td>\n",
       "      <td>Michael</td>\n",
       "      <td>Male</td>\n",
       "      <td>19</td>\n",
       "      <td>Junior</td>\n",
       "      <td>Engineering</td>\n",
       "      <td>7.9</td>\n",
       "      <td>75</td>\n",
       "      <td>95</td>\n",
       "    </tr>\n",
       "    <tr>\n",
       "      <th>4</th>\n",
       "      <td>5</td>\n",
       "      <td>Jack</td>\n",
       "      <td>Male</td>\n",
       "      <td>21</td>\n",
       "      <td>Freshman</td>\n",
       "      <td>Science</td>\n",
       "      <td>8.6</td>\n",
       "      <td>87</td>\n",
       "      <td>75</td>\n",
       "    </tr>\n",
       "    <tr>\n",
       "      <th>5</th>\n",
       "      <td>6</td>\n",
       "      <td>Sharvari</td>\n",
       "      <td>Female</td>\n",
       "      <td>18</td>\n",
       "      <td>Senior</td>\n",
       "      <td>Engineering</td>\n",
       "      <td>10.0</td>\n",
       "      <td>80</td>\n",
       "      <td>70</td>\n",
       "    </tr>\n",
       "  </tbody>\n",
       "</table>\n",
       "</div>"
      ],
      "text/plain": [
       "   ID      Name  Gender  Age     class         Major   GPA  Score  attendance\n",
       "0   1  Samantha  Female   18    Junior          Arts   8.2     85          90\n",
       "1   2      Adam    Male   19    Senior      Business   6.5     90          85\n",
       "2   3     Emily  Female   20    Junior       Science   9.8     93          80\n",
       "3   4   Michael    Male   19    Junior   Engineering   7.9     75          95\n",
       "4   5      Jack    Male   21  Freshman       Science   8.6     87          75\n",
       "5   6  Sharvari  Female   18    Senior  Engineering   10.0     80          70"
      ]
     },
     "execution_count": 4,
     "metadata": {},
     "output_type": "execute_result"
    }
   ],
   "source": [
    "df"
   ]
  },
  {
   "cell_type": "code",
   "execution_count": 41,
   "id": "6d278848",
   "metadata": {},
   "outputs": [
    {
     "name": "stdout",
     "output_type": "stream",
     "text": [
      "<class 'pandas.core.frame.DataFrame'>\n",
      "RangeIndex: 6 entries, 0 to 5\n",
      "Data columns (total 9 columns):\n",
      " #   Column      Non-Null Count  Dtype  \n",
      "---  ------      --------------  -----  \n",
      " 0   ID          6 non-null      int64  \n",
      " 1   Name        6 non-null      object \n",
      " 2   Gender      6 non-null      object \n",
      " 3   Age         6 non-null      int64  \n",
      " 4   class       6 non-null      object \n",
      " 5   Major       6 non-null      object \n",
      " 6   GPA         6 non-null      float64\n",
      " 7   Score       6 non-null      int64  \n",
      " 8   attendance  6 non-null      int64  \n",
      "dtypes: float64(1), int64(4), object(4)\n",
      "memory usage: 560.0+ bytes\n"
     ]
    }
   ],
   "source": [
    "df.info()"
   ]
  },
  {
   "cell_type": "code",
   "execution_count": 42,
   "id": "25e1ed8c",
   "metadata": {},
   "outputs": [
    {
     "data": {
      "text/html": [
       "<div>\n",
       "<style scoped>\n",
       "    .dataframe tbody tr th:only-of-type {\n",
       "        vertical-align: middle;\n",
       "    }\n",
       "\n",
       "    .dataframe tbody tr th {\n",
       "        vertical-align: top;\n",
       "    }\n",
       "\n",
       "    .dataframe thead th {\n",
       "        text-align: right;\n",
       "    }\n",
       "</style>\n",
       "<table border=\"1\" class=\"dataframe\">\n",
       "  <thead>\n",
       "    <tr style=\"text-align: right;\">\n",
       "      <th></th>\n",
       "      <th>ID</th>\n",
       "      <th>Age</th>\n",
       "      <th>GPA</th>\n",
       "      <th>Score</th>\n",
       "      <th>attendance</th>\n",
       "    </tr>\n",
       "  </thead>\n",
       "  <tbody>\n",
       "    <tr>\n",
       "      <th>count</th>\n",
       "      <td>6.000000</td>\n",
       "      <td>6.000000</td>\n",
       "      <td>6.000000</td>\n",
       "      <td>6.00000</td>\n",
       "      <td>6.000000</td>\n",
       "    </tr>\n",
       "    <tr>\n",
       "      <th>mean</th>\n",
       "      <td>3.500000</td>\n",
       "      <td>19.166667</td>\n",
       "      <td>8.500000</td>\n",
       "      <td>85.00000</td>\n",
       "      <td>82.500000</td>\n",
       "    </tr>\n",
       "    <tr>\n",
       "      <th>std</th>\n",
       "      <td>1.870829</td>\n",
       "      <td>1.169045</td>\n",
       "      <td>1.296148</td>\n",
       "      <td>6.60303</td>\n",
       "      <td>9.354143</td>\n",
       "    </tr>\n",
       "    <tr>\n",
       "      <th>min</th>\n",
       "      <td>1.000000</td>\n",
       "      <td>18.000000</td>\n",
       "      <td>6.500000</td>\n",
       "      <td>75.00000</td>\n",
       "      <td>70.000000</td>\n",
       "    </tr>\n",
       "    <tr>\n",
       "      <th>25%</th>\n",
       "      <td>2.250000</td>\n",
       "      <td>18.250000</td>\n",
       "      <td>7.975000</td>\n",
       "      <td>81.25000</td>\n",
       "      <td>76.250000</td>\n",
       "    </tr>\n",
       "    <tr>\n",
       "      <th>50%</th>\n",
       "      <td>3.500000</td>\n",
       "      <td>19.000000</td>\n",
       "      <td>8.400000</td>\n",
       "      <td>86.00000</td>\n",
       "      <td>82.500000</td>\n",
       "    </tr>\n",
       "    <tr>\n",
       "      <th>75%</th>\n",
       "      <td>4.750000</td>\n",
       "      <td>19.750000</td>\n",
       "      <td>9.500000</td>\n",
       "      <td>89.25000</td>\n",
       "      <td>88.750000</td>\n",
       "    </tr>\n",
       "    <tr>\n",
       "      <th>max</th>\n",
       "      <td>6.000000</td>\n",
       "      <td>21.000000</td>\n",
       "      <td>10.000000</td>\n",
       "      <td>93.00000</td>\n",
       "      <td>95.000000</td>\n",
       "    </tr>\n",
       "  </tbody>\n",
       "</table>\n",
       "</div>"
      ],
      "text/plain": [
       "             ID        Age        GPA     Score  attendance\n",
       "count  6.000000   6.000000   6.000000   6.00000    6.000000\n",
       "mean   3.500000  19.166667   8.500000  85.00000   82.500000\n",
       "std    1.870829   1.169045   1.296148   6.60303    9.354143\n",
       "min    1.000000  18.000000   6.500000  75.00000   70.000000\n",
       "25%    2.250000  18.250000   7.975000  81.25000   76.250000\n",
       "50%    3.500000  19.000000   8.400000  86.00000   82.500000\n",
       "75%    4.750000  19.750000   9.500000  89.25000   88.750000\n",
       "max    6.000000  21.000000  10.000000  93.00000   95.000000"
      ]
     },
     "execution_count": 42,
     "metadata": {},
     "output_type": "execute_result"
    }
   ],
   "source": [
    "df.describe()"
   ]
  },
  {
   "cell_type": "code",
   "execution_count": 5,
   "id": "9a4cd804",
   "metadata": {},
   "outputs": [
    {
     "name": "stdout",
     "output_type": "stream",
     "text": [
      "Gender\n",
      "Female    3\n",
      "Male      3\n",
      "Name: count, dtype: int64\n"
     ]
    }
   ],
   "source": [
    "print(df['Gender'].value_counts())"
   ]
  },
  {
   "cell_type": "code",
   "execution_count": 6,
   "id": "abe8ebab",
   "metadata": {},
   "outputs": [
    {
     "data": {
      "text/plain": [
       "ID            0\n",
       "Name          0\n",
       "Gender        0\n",
       "Age           0\n",
       "class         0\n",
       "Major         0\n",
       "GPA           0\n",
       "Score         0\n",
       "attendance    0\n",
       "dtype: int64"
      ]
     },
     "execution_count": 6,
     "metadata": {},
     "output_type": "execute_result"
    }
   ],
   "source": [
    "df.isnull().sum()"
   ]
  },
  {
   "cell_type": "code",
   "execution_count": 7,
   "id": "e4b8672c",
   "metadata": {},
   "outputs": [
    {
     "name": "stdout",
     "output_type": "stream",
     "text": [
      "The column names of the dataset are as follows: \n"
     ]
    },
    {
     "data": {
      "text/plain": [
       "Index(['ID', 'Name', 'Gender', 'Age', 'class', 'Major', 'GPA', 'Score',\n",
       "       'attendance'],\n",
       "      dtype='object')"
      ]
     },
     "execution_count": 7,
     "metadata": {},
     "output_type": "execute_result"
    }
   ],
   "source": [
    "print(\"The column names of the dataset are as follows: \")\n",
    "df.columns"
   ]
  },
  {
   "cell_type": "code",
   "execution_count": 8,
   "id": "80b1ca3e",
   "metadata": {},
   "outputs": [],
   "source": [
    "import matplotlib.pyplot as plt"
   ]
  },
  {
   "cell_type": "code",
   "execution_count": 50,
   "id": "f154908a",
   "metadata": {},
   "outputs": [
    {
     "data": {
      "text/plain": [
       "{'whiskers': [<matplotlib.lines.Line2D at 0x2086b4d2100>,\n",
       "  <matplotlib.lines.Line2D at 0x2086b4d2400>],\n",
       " 'caps': [<matplotlib.lines.Line2D at 0x2086b4d2790>,\n",
       "  <matplotlib.lines.Line2D at 0x2086b4d29a0>],\n",
       " 'boxes': [<matplotlib.lines.Line2D at 0x2086b423ca0>],\n",
       " 'medians': [<matplotlib.lines.Line2D at 0x2086b4d2c70>],\n",
       " 'fliers': [<matplotlib.lines.Line2D at 0x2086b4d2f40>],\n",
       " 'means': []}"
      ]
     },
     "execution_count": 50,
     "metadata": {},
     "output_type": "execute_result"
    },
    {
     "data": {
      "image/png": "[encoded data removed]",
      "text/plain": [
       "<Figure size 432x288 with 1 Axes>"
      ]
     },
     "metadata": {
      "needs_background": "light"
     },
     "output_type": "display_data"
    }
   ],
   "source": [
    "plt.boxplot(df['Score'])"
   ]
  },
  {
   "cell_type": "code",
   "execution_count": 52,
   "id": "b99e2e0c",
   "metadata": {},
   "outputs": [
    {
     "data": {
      "text/plain": [
       "Text(0, 0.5, 'attendance')"
      ]
     },
     "execution_count": 52,
     "metadata": {},
     "output_type": "execute_result"
    },
    {
     "data": {
      "image/png": "[encoded data removed]",
      "text/plain": [
       "<Figure size 432x288 with 1 Axes>"
      ]
     },
     "metadata": {
      "needs_background": "light"
     },
     "output_type": "display_data"
    }
   ],
   "source": [
    "plt.scatter(data['Score'], data['attendance'])\n",
    "plt.xlabel('Score')\n",
    "plt.ylabel('attendance')"
   ]
  },
  {
   "cell_type": "code",
   "execution_count": 9,
   "id": "e40d1ba0",
   "metadata": {},
   "outputs": [],
   "source": [
    "import seaborn as sbn"
   ]
  },
  {
   "cell_type": "code",
   "execution_count": 14,
   "id": "a359953c",
   "metadata": {},
   "outputs": [
    {
     "data": {
      "text/plain": [
       "<Axes: xlabel='Score', ylabel='Count'>"
      ]
     },
     "execution_count": 14,
     "metadata": {},
     "output_type": "execute_result"
    },
    {
     "data": {
      "image/png": "[encoded data removed]",
      "text/plain": [
       "<Figure size 640x480 with 1 Axes>"
      ]
     },
     "metadata": {},
     "output_type": "display_data"
    }
   ],
   "source": [
    "sbn.histplot(np.log(df['Score']))"
   ]
  },
  {
   "cell_type": "code",
   "execution_count": 15,
   "id": "de327dcc",
   "metadata": {},
   "outputs": [
    {
     "data": {
      "text/plain": [
       "0    4.442651\n",
       "1    4.499810\n",
       "2    4.532599\n",
       "3    4.317488\n",
       "4    4.465908\n",
       "5    4.382027\n",
       "Name: Score, dtype: float64"
      ]
     },
     "execution_count": 15,
     "metadata": {},
     "output_type": "execute_result"
    }
   ],
   "source": [
    "np.log(df['Score'])"
   ]
  },
  {
   "cell_type": "code",
   "execution_count": null,
   "id": "138e53f3",
   "metadata": {},
   "outputs": [],
   "source": []
  }
 ],
 "metadata": {
  "kernelspec": {
   "display_name": "Python 3 (ipykernel)",
   "language": "python",
   "name": "python3"
  },
  "language_info": {
   "codemirror_mode": {
    "name": "ipython",
    "version": 3
   },
   "file_extension": ".py",
   "mimetype": "text/x-python",
   "name": "python",
   "nbconvert_exporter": "python",
   "pygments_lexer": "ipython3",
   "version": "3.11.3"
  }
 },
 "nbformat": 4,
 "nbformat_minor": 5
}
