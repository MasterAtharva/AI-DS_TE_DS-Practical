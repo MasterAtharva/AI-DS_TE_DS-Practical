{
 "cells": [
  {
   "cell_type": "code",
   "execution_count": 1,
   "id": "d8a49834",
   "metadata": {},
   "outputs": [],
   "source": [
    "from sklearn.datasets import load_iris\n",
    "import pandas as pd\n",
    "import numpy as np\n"
   ]
  },
  {
   "cell_type": "markdown",
   "id": "e14156fc",
   "metadata": {},
   "source": [
    "# 1.Providing summary Statistics"
   ]
  },
  {
   "cell_type": "code",
   "execution_count": 2,
   "id": "f17b223b",
   "metadata": {},
   "outputs": [],
   "source": [
    "df=pd.read_csv(\"Fortune 500 Companies.csv\")"
   ]
  },
  {
   "cell_type": "code",
   "execution_count": 3,
   "id": "86515fec",
   "metadata": {},
   "outputs": [
    {
     "data": {
      "text/html": [
       "<div>\n",
       "<style scoped>\n",
       "    .dataframe tbody tr th:only-of-type {\n",
       "        vertical-align: middle;\n",
       "    }\n",
       "\n",
       "    .dataframe tbody tr th {\n",
       "        vertical-align: top;\n",
       "    }\n",
       "\n",
       "    .dataframe thead th {\n",
       "        text-align: right;\n",
       "    }\n",
       "</style>\n",
       "<table border=\"1\" class=\"dataframe\">\n",
       "  <thead>\n",
       "    <tr style=\"text-align: right;\">\n",
       "      <th></th>\n",
       "      <th>name</th>\n",
       "      <th>rank</th>\n",
       "      <th>year</th>\n",
       "      <th>industry</th>\n",
       "      <th>sector</th>\n",
       "      <th>headquarters_state</th>\n",
       "      <th>headquarters_city</th>\n",
       "      <th>market_value_mil</th>\n",
       "      <th>revenue_mil</th>\n",
       "      <th>profit_mil</th>\n",
       "      <th>asset_mil</th>\n",
       "      <th>employees</th>\n",
       "      <th>founder_is_ceo</th>\n",
       "      <th>female_ceo</th>\n",
       "      <th>newcomer_to_fortune_500</th>\n",
       "      <th>global_500</th>\n",
       "    </tr>\n",
       "  </thead>\n",
       "  <tbody>\n",
       "    <tr>\n",
       "      <th>0</th>\n",
       "      <td>General Motors Corporation</td>\n",
       "      <td>1</td>\n",
       "      <td>1996</td>\n",
       "      <td>Motor Vehicles &amp; Parts</td>\n",
       "      <td>NaN</td>\n",
       "      <td>MI</td>\n",
       "      <td>NaN</td>\n",
       "      <td>NaN</td>\n",
       "      <td>168828.6</td>\n",
       "      <td>NaN</td>\n",
       "      <td>NaN</td>\n",
       "      <td>NaN</td>\n",
       "      <td>NaN</td>\n",
       "      <td>NaN</td>\n",
       "      <td>NaN</td>\n",
       "      <td>NaN</td>\n",
       "    </tr>\n",
       "    <tr>\n",
       "      <th>1</th>\n",
       "      <td>Ford Motor Company</td>\n",
       "      <td>2</td>\n",
       "      <td>1996</td>\n",
       "      <td>Motor Vehicles &amp; Parts</td>\n",
       "      <td>NaN</td>\n",
       "      <td>MI</td>\n",
       "      <td>NaN</td>\n",
       "      <td>NaN</td>\n",
       "      <td>137137.0</td>\n",
       "      <td>NaN</td>\n",
       "      <td>NaN</td>\n",
       "      <td>NaN</td>\n",
       "      <td>NaN</td>\n",
       "      <td>NaN</td>\n",
       "      <td>NaN</td>\n",
       "      <td>NaN</td>\n",
       "    </tr>\n",
       "    <tr>\n",
       "      <th>2</th>\n",
       "      <td>Exxon Corporation</td>\n",
       "      <td>3</td>\n",
       "      <td>1996</td>\n",
       "      <td>Petroleum Refining</td>\n",
       "      <td>NaN</td>\n",
       "      <td>TX</td>\n",
       "      <td>NaN</td>\n",
       "      <td>NaN</td>\n",
       "      <td>110009.0</td>\n",
       "      <td>NaN</td>\n",
       "      <td>NaN</td>\n",
       "      <td>NaN</td>\n",
       "      <td>NaN</td>\n",
       "      <td>NaN</td>\n",
       "      <td>NaN</td>\n",
       "      <td>NaN</td>\n",
       "    </tr>\n",
       "    <tr>\n",
       "      <th>3</th>\n",
       "      <td>Wal-Mart Stores, Inc.</td>\n",
       "      <td>4</td>\n",
       "      <td>1996</td>\n",
       "      <td>General Merchandisers</td>\n",
       "      <td>NaN</td>\n",
       "      <td>AR</td>\n",
       "      <td>NaN</td>\n",
       "      <td>NaN</td>\n",
       "      <td>93627.0</td>\n",
       "      <td>NaN</td>\n",
       "      <td>NaN</td>\n",
       "      <td>NaN</td>\n",
       "      <td>NaN</td>\n",
       "      <td>NaN</td>\n",
       "      <td>NaN</td>\n",
       "      <td>NaN</td>\n",
       "    </tr>\n",
       "    <tr>\n",
       "      <th>4</th>\n",
       "      <td>AT&amp;T Corp.</td>\n",
       "      <td>5</td>\n",
       "      <td>1996</td>\n",
       "      <td>Telecommunications</td>\n",
       "      <td>NaN</td>\n",
       "      <td>NY</td>\n",
       "      <td>NaN</td>\n",
       "      <td>NaN</td>\n",
       "      <td>79609.0</td>\n",
       "      <td>NaN</td>\n",
       "      <td>NaN</td>\n",
       "      <td>NaN</td>\n",
       "      <td>NaN</td>\n",
       "      <td>NaN</td>\n",
       "      <td>NaN</td>\n",
       "      <td>NaN</td>\n",
       "    </tr>\n",
       "  </tbody>\n",
       "</table>\n",
       "</div>"
      ],
      "text/plain": [
       "                         name  rank  year                industry sector   \n",
       "0  General Motors Corporation     1  1996  Motor Vehicles & Parts    NaN  \\\n",
       "1          Ford Motor Company     2  1996  Motor Vehicles & Parts    NaN   \n",
       "2           Exxon Corporation     3  1996      Petroleum Refining    NaN   \n",
       "3       Wal-Mart Stores, Inc.     4  1996   General Merchandisers    NaN   \n",
       "4                  AT&T Corp.     5  1996      Telecommunications    NaN   \n",
       "\n",
       "  headquarters_state headquarters_city  market_value_mil  revenue_mil   \n",
       "0                 MI               NaN               NaN     168828.6  \\\n",
       "1                 MI               NaN               NaN     137137.0   \n",
       "2                 TX               NaN               NaN     110009.0   \n",
       "3                 AR               NaN               NaN      93627.0   \n",
       "4                 NY               NaN               NaN      79609.0   \n",
       "\n",
       "   profit_mil  asset_mil  employees founder_is_ceo female_ceo   \n",
       "0         NaN        NaN        NaN            NaN        NaN  \\\n",
       "1         NaN        NaN        NaN            NaN        NaN   \n",
       "2         NaN        NaN        NaN            NaN        NaN   \n",
       "3         NaN        NaN        NaN            NaN        NaN   \n",
       "4         NaN        NaN        NaN            NaN        NaN   \n",
       "\n",
       "  newcomer_to_fortune_500 global_500  \n",
       "0                     NaN        NaN  \n",
       "1                     NaN        NaN  \n",
       "2                     NaN        NaN  \n",
       "3                     NaN        NaN  \n",
       "4                     NaN        NaN  "
      ]
     },
     "execution_count": 3,
     "metadata": {},
     "output_type": "execute_result"
    }
   ],
   "source": [
    "df.head()"
   ]
  },
  {
   "cell_type": "code",
   "execution_count": 4,
   "id": "5166cabc",
   "metadata": {
    "scrolled": true
   },
   "outputs": [
    {
     "name": "stdout",
     "output_type": "stream",
     "text": [
      "<class 'pandas.core.frame.DataFrame'>\n",
      "RangeIndex: 13940 entries, 0 to 13939\n",
      "Data columns (total 16 columns):\n",
      " #   Column                   Non-Null Count  Dtype  \n",
      "---  ------                   --------------  -----  \n",
      " 0   name                     13940 non-null  object \n",
      " 1   rank                     13940 non-null  int64  \n",
      " 2   year                     13940 non-null  int64  \n",
      " 3   industry                 13940 non-null  object \n",
      " 4   sector                   4500 non-null   object \n",
      " 5   headquarters_state       13940 non-null  object \n",
      " 6   headquarters_city        7495 non-null   object \n",
      " 7   market_value_mil         5185 non-null   float64\n",
      " 8   revenue_mil              13940 non-null  float64\n",
      " 9   profit_mil               5497 non-null   float64\n",
      " 10  asset_mil                5500 non-null   float64\n",
      " 11  employees                4500 non-null   float64\n",
      " 12  founder_is_ceo           4500 non-null   object \n",
      " 13  female_ceo               4500 non-null   object \n",
      " 14  newcomer_to_fortune_500  4500 non-null   object \n",
      " 15  global_500               4000 non-null   object \n",
      "dtypes: float64(5), int64(2), object(9)\n",
      "memory usage: 1.7+ MB\n"
     ]
    }
   ],
   "source": [
    "df.info()"
   ]
  },
  {
   "cell_type": "markdown",
   "id": "bc0e47d7",
   "metadata": {},
   "source": [
    "## Statistics For Numerical Column"
   ]
  },
  {
   "cell_type": "code",
   "execution_count": 5,
   "id": "653fc42f",
   "metadata": {},
   "outputs": [
    {
     "data": {
      "text/html": [
       "<div>\n",
       "<style scoped>\n",
       "    .dataframe tbody tr th:only-of-type {\n",
       "        vertical-align: middle;\n",
       "    }\n",
       "\n",
       "    .dataframe tbody tr th {\n",
       "        vertical-align: top;\n",
       "    }\n",
       "\n",
       "    .dataframe thead th {\n",
       "        text-align: right;\n",
       "    }\n",
       "</style>\n",
       "<table border=\"1\" class=\"dataframe\">\n",
       "  <thead>\n",
       "    <tr style=\"text-align: right;\">\n",
       "      <th></th>\n",
       "      <th>rank</th>\n",
       "      <th>year</th>\n",
       "      <th>market_value_mil</th>\n",
       "      <th>revenue_mil</th>\n",
       "      <th>profit_mil</th>\n",
       "      <th>asset_mil</th>\n",
       "      <th>employees</th>\n",
       "    </tr>\n",
       "  </thead>\n",
       "  <tbody>\n",
       "    <tr>\n",
       "      <th>count</th>\n",
       "      <td>13940.000000</td>\n",
       "      <td>13940.000000</td>\n",
       "      <td>5.185000e+03</td>\n",
       "      <td>13940.000000</td>\n",
       "      <td>5497.000000</td>\n",
       "      <td>5.500000e+03</td>\n",
       "      <td>4.500000e+03</td>\n",
       "    </tr>\n",
       "    <tr>\n",
       "      <th>mean</th>\n",
       "      <td>250.511765</td>\n",
       "      <td>2009.537231</td>\n",
       "      <td>4.738633e+04</td>\n",
       "      <td>20225.158016</td>\n",
       "      <td>2501.271621</td>\n",
       "      <td>8.583805e+04</td>\n",
       "      <td>5.736614e+04</td>\n",
       "    </tr>\n",
       "    <tr>\n",
       "      <th>std</th>\n",
       "      <td>144.368022</td>\n",
       "      <td>8.071421</td>\n",
       "      <td>1.245715e+05</td>\n",
       "      <td>35994.023496</td>\n",
       "      <td>5626.509092</td>\n",
       "      <td>2.974978e+05</td>\n",
       "      <td>1.281823e+05</td>\n",
       "    </tr>\n",
       "    <tr>\n",
       "      <th>min</th>\n",
       "      <td>1.000000</td>\n",
       "      <td>1996.000000</td>\n",
       "      <td>5.610000e+00</td>\n",
       "      <td>48.290000</td>\n",
       "      <td>-12650.000000</td>\n",
       "      <td>2.450000e+01</td>\n",
       "      <td>5.200000e+01</td>\n",
       "    </tr>\n",
       "    <tr>\n",
       "      <th>25%</th>\n",
       "      <td>125.000000</td>\n",
       "      <td>2003.000000</td>\n",
       "      <td>5.637000e+03</td>\n",
       "      <td>5806.225000</td>\n",
       "      <td>390.000000</td>\n",
       "      <td>7.653750e+03</td>\n",
       "      <td>1.182075e+04</td>\n",
       "    </tr>\n",
       "    <tr>\n",
       "      <th>50%</th>\n",
       "      <td>250.500000</td>\n",
       "      <td>2010.000000</td>\n",
       "      <td>1.583500e+04</td>\n",
       "      <td>9587.500000</td>\n",
       "      <td>948.000000</td>\n",
       "      <td>1.906700e+04</td>\n",
       "      <td>2.533200e+04</td>\n",
       "    </tr>\n",
       "    <tr>\n",
       "      <th>75%</th>\n",
       "      <td>375.250000</td>\n",
       "      <td>2017.000000</td>\n",
       "      <td>4.269900e+04</td>\n",
       "      <td>19109.000000</td>\n",
       "      <td>2319.000000</td>\n",
       "      <td>5.134875e+04</td>\n",
       "      <td>5.800000e+04</td>\n",
       "    </tr>\n",
       "    <tr>\n",
       "      <th>max</th>\n",
       "      <td>500.000000</td>\n",
       "      <td>2023.000000</td>\n",
       "      <td>2.849538e+06</td>\n",
       "      <td>611289.000000</td>\n",
       "      <td>99803.000000</td>\n",
       "      <td>4.305288e+06</td>\n",
       "      <td>2.300000e+06</td>\n",
       "    </tr>\n",
       "  </tbody>\n",
       "</table>\n",
       "</div>"
      ],
      "text/plain": [
       "               rank          year  market_value_mil    revenue_mil   \n",
       "count  13940.000000  13940.000000      5.185000e+03   13940.000000  \\\n",
       "mean     250.511765   2009.537231      4.738633e+04   20225.158016   \n",
       "std      144.368022      8.071421      1.245715e+05   35994.023496   \n",
       "min        1.000000   1996.000000      5.610000e+00      48.290000   \n",
       "25%      125.000000   2003.000000      5.637000e+03    5806.225000   \n",
       "50%      250.500000   2010.000000      1.583500e+04    9587.500000   \n",
       "75%      375.250000   2017.000000      4.269900e+04   19109.000000   \n",
       "max      500.000000   2023.000000      2.849538e+06  611289.000000   \n",
       "\n",
       "         profit_mil     asset_mil     employees  \n",
       "count   5497.000000  5.500000e+03  4.500000e+03  \n",
       "mean    2501.271621  8.583805e+04  5.736614e+04  \n",
       "std     5626.509092  2.974978e+05  1.281823e+05  \n",
       "min   -12650.000000  2.450000e+01  5.200000e+01  \n",
       "25%      390.000000  7.653750e+03  1.182075e+04  \n",
       "50%      948.000000  1.906700e+04  2.533200e+04  \n",
       "75%     2319.000000  5.134875e+04  5.800000e+04  \n",
       "max    99803.000000  4.305288e+06  2.300000e+06  "
      ]
     },
     "execution_count": 5,
     "metadata": {},
     "output_type": "execute_result"
    }
   ],
   "source": [
    "df.describe()"
   ]
  },
  {
   "cell_type": "code",
   "execution_count": 6,
   "id": "462b8f62",
   "metadata": {},
   "outputs": [
    {
     "data": {
      "text/plain": [
       "Index(['name', 'rank', 'year', 'industry', 'sector', 'headquarters_state',\n",
       "       'headquarters_city', 'market_value_mil', 'revenue_mil', 'profit_mil',\n",
       "       'asset_mil', 'employees', 'founder_is_ceo', 'female_ceo',\n",
       "       'newcomer_to_fortune_500', 'global_500'],\n",
       "      dtype='object')"
      ]
     },
     "execution_count": 6,
     "metadata": {},
     "output_type": "execute_result"
    }
   ],
   "source": [
    "df.columns"
   ]
  },
  {
   "cell_type": "markdown",
   "id": "57c62ebb",
   "metadata": {},
   "source": [
    "## Numeric Variable group By Qualitative Variabe"
   ]
  },
  {
   "cell_type": "code",
   "execution_count": 7,
   "id": "d541c2d5",
   "metadata": {},
   "outputs": [],
   "source": [
    "columns=df[['rank','year','market_value_mil' ,'revenue_mil']]"
   ]
  },
  {
   "cell_type": "code",
   "execution_count": 8,
   "id": "0d8be533",
   "metadata": {},
   "outputs": [
    {
     "data": {
      "text/html": [
       "<div>\n",
       "<style scoped>\n",
       "    .dataframe tbody tr th:only-of-type {\n",
       "        vertical-align: middle;\n",
       "    }\n",
       "\n",
       "    .dataframe tbody tr th {\n",
       "        vertical-align: top;\n",
       "    }\n",
       "\n",
       "    .dataframe thead th {\n",
       "        text-align: right;\n",
       "    }\n",
       "</style>\n",
       "<table border=\"1\" class=\"dataframe\">\n",
       "  <thead>\n",
       "    <tr style=\"text-align: right;\">\n",
       "      <th></th>\n",
       "      <th>rank</th>\n",
       "      <th>year</th>\n",
       "      <th>market_value_mil</th>\n",
       "      <th>revenue_mil</th>\n",
       "    </tr>\n",
       "  </thead>\n",
       "  <tbody>\n",
       "    <tr>\n",
       "      <th>0</th>\n",
       "      <td>1</td>\n",
       "      <td>1996</td>\n",
       "      <td>NaN</td>\n",
       "      <td>168828.6</td>\n",
       "    </tr>\n",
       "    <tr>\n",
       "      <th>1</th>\n",
       "      <td>2</td>\n",
       "      <td>1996</td>\n",
       "      <td>NaN</td>\n",
       "      <td>137137.0</td>\n",
       "    </tr>\n",
       "    <tr>\n",
       "      <th>2</th>\n",
       "      <td>3</td>\n",
       "      <td>1996</td>\n",
       "      <td>NaN</td>\n",
       "      <td>110009.0</td>\n",
       "    </tr>\n",
       "    <tr>\n",
       "      <th>3</th>\n",
       "      <td>4</td>\n",
       "      <td>1996</td>\n",
       "      <td>NaN</td>\n",
       "      <td>93627.0</td>\n",
       "    </tr>\n",
       "    <tr>\n",
       "      <th>4</th>\n",
       "      <td>5</td>\n",
       "      <td>1996</td>\n",
       "      <td>NaN</td>\n",
       "      <td>79609.0</td>\n",
       "    </tr>\n",
       "    <tr>\n",
       "      <th>...</th>\n",
       "      <td>...</td>\n",
       "      <td>...</td>\n",
       "      <td>...</td>\n",
       "      <td>...</td>\n",
       "    </tr>\n",
       "    <tr>\n",
       "      <th>13935</th>\n",
       "      <td>496</td>\n",
       "      <td>2023</td>\n",
       "      <td>45225.0</td>\n",
       "      <td>7273.0</td>\n",
       "    </tr>\n",
       "    <tr>\n",
       "      <th>13936</th>\n",
       "      <td>497</td>\n",
       "      <td>2023</td>\n",
       "      <td>66873.0</td>\n",
       "      <td>7263.0</td>\n",
       "    </tr>\n",
       "    <tr>\n",
       "      <th>13937</th>\n",
       "      <td>498</td>\n",
       "      <td>2023</td>\n",
       "      <td>5975.0</td>\n",
       "      <td>7251.0</td>\n",
       "    </tr>\n",
       "    <tr>\n",
       "      <th>13938</th>\n",
       "      <td>499</td>\n",
       "      <td>2023</td>\n",
       "      <td>94338.0</td>\n",
       "      <td>7245.0</td>\n",
       "    </tr>\n",
       "    <tr>\n",
       "      <th>13939</th>\n",
       "      <td>500</td>\n",
       "      <td>2023</td>\n",
       "      <td>8677.0</td>\n",
       "      <td>7238.0</td>\n",
       "    </tr>\n",
       "  </tbody>\n",
       "</table>\n",
       "<p>13940 rows × 4 columns</p>\n",
       "</div>"
      ],
      "text/plain": [
       "       rank  year  market_value_mil  revenue_mil\n",
       "0         1  1996               NaN     168828.6\n",
       "1         2  1996               NaN     137137.0\n",
       "2         3  1996               NaN     110009.0\n",
       "3         4  1996               NaN      93627.0\n",
       "4         5  1996               NaN      79609.0\n",
       "...     ...   ...               ...          ...\n",
       "13935   496  2023           45225.0       7273.0\n",
       "13936   497  2023           66873.0       7263.0\n",
       "13937   498  2023            5975.0       7251.0\n",
       "13938   499  2023           94338.0       7245.0\n",
       "13939   500  2023            8677.0       7238.0\n",
       "\n",
       "[13940 rows x 4 columns]"
      ]
     },
     "execution_count": 8,
     "metadata": {},
     "output_type": "execute_result"
    }
   ],
   "source": [
    "columns"
   ]
  },
  {
   "cell_type": "markdown",
   "id": "ed4d38a5",
   "metadata": {},
   "source": [
    "### Mean"
   ]
  },
  {
   "cell_type": "code",
   "execution_count": 16,
   "id": "1340b28b",
   "metadata": {},
   "outputs": [
    {
     "data": {
      "text/plain": [
       "rank                  250.511765\n",
       "year                 2009.537231\n",
       "market_value_mil    47386.331618\n",
       "revenue_mil         20225.158016\n",
       "dtype: float64"
      ]
     },
     "execution_count": 16,
     "metadata": {},
     "output_type": "execute_result"
    }
   ],
   "source": [
    "columns.mean()"
   ]
  },
  {
   "cell_type": "markdown",
   "id": "11189514",
   "metadata": {},
   "source": [
    "### Median"
   ]
  },
  {
   "cell_type": "code",
   "execution_count": 17,
   "id": "f148572b",
   "metadata": {},
   "outputs": [
    {
     "data": {
      "text/plain": [
       "rank                  250.5\n",
       "year                 2010.0\n",
       "market_value_mil    15835.0\n",
       "revenue_mil          9587.5\n",
       "dtype: float64"
      ]
     },
     "execution_count": 17,
     "metadata": {},
     "output_type": "execute_result"
    }
   ],
   "source": [
    "columns.median()"
   ]
  },
  {
   "cell_type": "markdown",
   "id": "c566e5e1",
   "metadata": {},
   "source": [
    "### Mode"
   ]
  },
  {
   "cell_type": "code",
   "execution_count": 18,
   "id": "e5b8f8ee",
   "metadata": {},
   "outputs": [
    {
     "data": {
      "text/html": [
       "<div>\n",
       "<style scoped>\n",
       "    .dataframe tbody tr th:only-of-type {\n",
       "        vertical-align: middle;\n",
       "    }\n",
       "\n",
       "    .dataframe tbody tr th {\n",
       "        vertical-align: top;\n",
       "    }\n",
       "\n",
       "    .dataframe thead th {\n",
       "        text-align: right;\n",
       "    }\n",
       "</style>\n",
       "<table border=\"1\" class=\"dataframe\">\n",
       "  <thead>\n",
       "    <tr style=\"text-align: right;\">\n",
       "      <th></th>\n",
       "      <th>rank</th>\n",
       "      <th>year</th>\n",
       "      <th>market_value_mil</th>\n",
       "      <th>revenue_mil</th>\n",
       "    </tr>\n",
       "  </thead>\n",
       "  <tbody>\n",
       "    <tr>\n",
       "      <th>0</th>\n",
       "      <td>306.0</td>\n",
       "      <td>2010</td>\n",
       "      <td>2607.0</td>\n",
       "      <td>5810.0</td>\n",
       "    </tr>\n",
       "    <tr>\n",
       "      <th>1</th>\n",
       "      <td>441.0</td>\n",
       "      <td>2013</td>\n",
       "      <td>NaN</td>\n",
       "      <td>5853.0</td>\n",
       "    </tr>\n",
       "    <tr>\n",
       "      <th>2</th>\n",
       "      <td>466.0</td>\n",
       "      <td>2014</td>\n",
       "      <td>NaN</td>\n",
       "      <td>6691.0</td>\n",
       "    </tr>\n",
       "    <tr>\n",
       "      <th>3</th>\n",
       "      <td>NaN</td>\n",
       "      <td>2015</td>\n",
       "      <td>NaN</td>\n",
       "      <td>9061.0</td>\n",
       "    </tr>\n",
       "    <tr>\n",
       "      <th>4</th>\n",
       "      <td>NaN</td>\n",
       "      <td>2016</td>\n",
       "      <td>NaN</td>\n",
       "      <td>NaN</td>\n",
       "    </tr>\n",
       "    <tr>\n",
       "      <th>5</th>\n",
       "      <td>NaN</td>\n",
       "      <td>2017</td>\n",
       "      <td>NaN</td>\n",
       "      <td>NaN</td>\n",
       "    </tr>\n",
       "    <tr>\n",
       "      <th>6</th>\n",
       "      <td>NaN</td>\n",
       "      <td>2018</td>\n",
       "      <td>NaN</td>\n",
       "      <td>NaN</td>\n",
       "    </tr>\n",
       "    <tr>\n",
       "      <th>7</th>\n",
       "      <td>NaN</td>\n",
       "      <td>2019</td>\n",
       "      <td>NaN</td>\n",
       "      <td>NaN</td>\n",
       "    </tr>\n",
       "    <tr>\n",
       "      <th>8</th>\n",
       "      <td>NaN</td>\n",
       "      <td>2020</td>\n",
       "      <td>NaN</td>\n",
       "      <td>NaN</td>\n",
       "    </tr>\n",
       "    <tr>\n",
       "      <th>9</th>\n",
       "      <td>NaN</td>\n",
       "      <td>2021</td>\n",
       "      <td>NaN</td>\n",
       "      <td>NaN</td>\n",
       "    </tr>\n",
       "    <tr>\n",
       "      <th>10</th>\n",
       "      <td>NaN</td>\n",
       "      <td>2022</td>\n",
       "      <td>NaN</td>\n",
       "      <td>NaN</td>\n",
       "    </tr>\n",
       "    <tr>\n",
       "      <th>11</th>\n",
       "      <td>NaN</td>\n",
       "      <td>2023</td>\n",
       "      <td>NaN</td>\n",
       "      <td>NaN</td>\n",
       "    </tr>\n",
       "  </tbody>\n",
       "</table>\n",
       "</div>"
      ],
      "text/plain": [
       "     rank  year  market_value_mil  revenue_mil\n",
       "0   306.0  2010            2607.0       5810.0\n",
       "1   441.0  2013               NaN       5853.0\n",
       "2   466.0  2014               NaN       6691.0\n",
       "3     NaN  2015               NaN       9061.0\n",
       "4     NaN  2016               NaN          NaN\n",
       "5     NaN  2017               NaN          NaN\n",
       "6     NaN  2018               NaN          NaN\n",
       "7     NaN  2019               NaN          NaN\n",
       "8     NaN  2020               NaN          NaN\n",
       "9     NaN  2021               NaN          NaN\n",
       "10    NaN  2022               NaN          NaN\n",
       "11    NaN  2023               NaN          NaN"
      ]
     },
     "execution_count": 18,
     "metadata": {},
     "output_type": "execute_result"
    }
   ],
   "source": [
    "columns.mode()"
   ]
  },
  {
   "cell_type": "markdown",
   "id": "6cd0bd43",
   "metadata": {},
   "source": [
    "### Standard deviation"
   ]
  },
  {
   "cell_type": "code",
   "execution_count": 20,
   "id": "a20ce206",
   "metadata": {},
   "outputs": [
    {
     "data": {
      "text/plain": [
       "rank                   144.368022\n",
       "year                     8.071421\n",
       "market_value_mil    124571.510458\n",
       "revenue_mil          35994.023496\n",
       "dtype: float64"
      ]
     },
     "execution_count": 20,
     "metadata": {},
     "output_type": "execute_result"
    }
   ],
   "source": [
    "columns.std()"
   ]
  },
  {
   "cell_type": "markdown",
   "id": "19093f1f",
   "metadata": {},
   "source": [
    "### Min"
   ]
  },
  {
   "cell_type": "code",
   "execution_count": 21,
   "id": "f27653d4",
   "metadata": {},
   "outputs": [
    {
     "data": {
      "text/plain": [
       "rank                   1.00\n",
       "year                1996.00\n",
       "market_value_mil       5.61\n",
       "revenue_mil           48.29\n",
       "dtype: float64"
      ]
     },
     "execution_count": 21,
     "metadata": {},
     "output_type": "execute_result"
    }
   ],
   "source": [
    "columns.min()"
   ]
  },
  {
   "cell_type": "markdown",
   "id": "be20ec8f",
   "metadata": {},
   "source": [
    "### Max"
   ]
  },
  {
   "cell_type": "code",
   "execution_count": 22,
   "id": "f3e90092",
   "metadata": {},
   "outputs": [
    {
     "data": {
      "text/plain": [
       "rank                    500.0\n",
       "year                   2023.0\n",
       "market_value_mil    2849538.0\n",
       "revenue_mil          611289.0\n",
       "dtype: float64"
      ]
     },
     "execution_count": 22,
     "metadata": {},
     "output_type": "execute_result"
    }
   ],
   "source": [
    "columns.max()"
   ]
  },
  {
   "cell_type": "markdown",
   "id": "c8d49125",
   "metadata": {},
   "source": [
    "### Variance"
   ]
  },
  {
   "cell_type": "code",
   "execution_count": 23,
   "id": "f33375f2",
   "metadata": {},
   "outputs": [
    {
     "data": {
      "text/plain": [
       "rank                2.084213e+04\n",
       "year                6.514784e+01\n",
       "market_value_mil    1.551806e+10\n",
       "revenue_mil         1.295570e+09\n",
       "dtype: float64"
      ]
     },
     "execution_count": 23,
     "metadata": {},
     "output_type": "execute_result"
    }
   ],
   "source": [
    "columns.var()"
   ]
  },
  {
   "cell_type": "code",
   "execution_count": 9,
   "id": "0515d0e2",
   "metadata": {},
   "outputs": [
    {
     "data": {
      "text/plain": [
       "Text(0.5, 0, 'years')"
      ]
     },
     "execution_count": 9,
     "metadata": {},
     "output_type": "execute_result"
    },
    {
     "data": {
      "image/png": "[encoded data removed]",
      "text/plain": [
       "<Figure size 640x480 with 1 Axes>"
      ]
     },
     "metadata": {},
     "output_type": "display_data"
    }
   ],
   "source": [
    "import matplotlib.pyplot as plt\n",
    "y = df[\"market_value_mil\"] \n",
    "x = df[\"year\"]\n",
    "plt.plot(x,y)\n",
    "plt.ylabel('ranks')\n",
    "plt.xlabel('years')"
   ]
  },
  {
   "cell_type": "markdown",
   "id": "f60ba40e",
   "metadata": {},
   "source": [
    "### 25th Quartile"
   ]
  },
  {
   "cell_type": "code",
   "execution_count": 28,
   "id": "42e8aac0",
   "metadata": {},
   "outputs": [
    {
     "data": {
      "text/plain": [
       "rank                 125.000\n",
       "year                2003.000\n",
       "market_value_mil    5637.000\n",
       "revenue_mil         5806.225\n",
       "Name: 0.25, dtype: float64"
      ]
     },
     "execution_count": 28,
     "metadata": {},
     "output_type": "execute_result"
    }
   ],
   "source": [
    "columns.quantile(0.25)"
   ]
  },
  {
   "cell_type": "markdown",
   "id": "6cb31f5f",
   "metadata": {},
   "source": [
    "### 50th Quartile"
   ]
  },
  {
   "cell_type": "code",
   "execution_count": 27,
   "id": "778bf4c7",
   "metadata": {},
   "outputs": [
    {
     "data": {
      "text/plain": [
       "rank                  250.5\n",
       "year                 2010.0\n",
       "market_value_mil    15835.0\n",
       "revenue_mil          9587.5\n",
       "Name: 0.5, dtype: float64"
      ]
     },
     "execution_count": 27,
     "metadata": {},
     "output_type": "execute_result"
    }
   ],
   "source": [
    "columns.quantile(0.5)"
   ]
  },
  {
   "cell_type": "markdown",
   "id": "e8c0b74f",
   "metadata": {},
   "source": [
    "### 75th quartile"
   ]
  },
  {
   "cell_type": "code",
   "execution_count": 29,
   "id": "a30d003c",
   "metadata": {},
   "outputs": [
    {
     "data": {
      "text/plain": [
       "rank                  375.25\n",
       "year                 2017.00\n",
       "market_value_mil    42699.00\n",
       "revenue_mil         19109.00\n",
       "Name: 0.75, dtype: float64"
      ]
     },
     "execution_count": 29,
     "metadata": {},
     "output_type": "execute_result"
    }
   ],
   "source": [
    "columns.quantile(0.75)"
   ]
  },
  {
   "cell_type": "code",
   "execution_count": 30,
   "id": "41362706",
   "metadata": {},
   "outputs": [
    {
     "data": {
      "image/png": "[encoded data removed]",
      "text/plain": [
       "<Figure size 640x480 with 1 Axes>"
      ]
     },
     "metadata": {},
     "output_type": "display_data"
    }
   ],
   "source": [
    "y = df[\"market_value_mil\"] \n",
    "x = df[\"year\"]\n",
    "plt.bar(x, y)\n",
    "plt.ylabel('market_value_mil')\n",
    "plt.xlabel('years')\n",
    "plt.show()"
   ]
  },
  {
   "cell_type": "markdown",
   "id": "9188a092",
   "metadata": {},
   "source": [
    "# <hr>"
   ]
  },
  {
   "cell_type": "markdown",
   "id": "b366ff0e",
   "metadata": {},
   "source": [
    "# 2. For Iris Dataset"
   ]
  },
  {
   "cell_type": "code",
   "execution_count": 38,
   "id": "b176ff83",
   "metadata": {},
   "outputs": [],
   "source": [
    "df=pd.read_csv(\"Iris.csv\")"
   ]
  },
  {
   "cell_type": "code",
   "execution_count": 39,
   "id": "47a0b7aa",
   "metadata": {},
   "outputs": [
    {
     "data": {
      "text/html": [
       "<div>\n",
       "<style scoped>\n",
       "    .dataframe tbody tr th:only-of-type {\n",
       "        vertical-align: middle;\n",
       "    }\n",
       "\n",
       "    .dataframe tbody tr th {\n",
       "        vertical-align: top;\n",
       "    }\n",
       "\n",
       "    .dataframe thead th {\n",
       "        text-align: right;\n",
       "    }\n",
       "</style>\n",
       "<table border=\"1\" class=\"dataframe\">\n",
       "  <thead>\n",
       "    <tr style=\"text-align: right;\">\n",
       "      <th></th>\n",
       "      <th>Id</th>\n",
       "      <th>SepalLengthCm</th>\n",
       "      <th>SepalWidthCm</th>\n",
       "      <th>PetalLengthCm</th>\n",
       "      <th>PetalWidthCm</th>\n",
       "      <th>Species</th>\n",
       "    </tr>\n",
       "  </thead>\n",
       "  <tbody>\n",
       "    <tr>\n",
       "      <th>0</th>\n",
       "      <td>1</td>\n",
       "      <td>5.1</td>\n",
       "      <td>3.5</td>\n",
       "      <td>1.4</td>\n",
       "      <td>0.2</td>\n",
       "      <td>Iris-setosa</td>\n",
       "    </tr>\n",
       "    <tr>\n",
       "      <th>1</th>\n",
       "      <td>2</td>\n",
       "      <td>4.9</td>\n",
       "      <td>3.0</td>\n",
       "      <td>1.4</td>\n",
       "      <td>0.2</td>\n",
       "      <td>Iris-setosa</td>\n",
       "    </tr>\n",
       "    <tr>\n",
       "      <th>2</th>\n",
       "      <td>3</td>\n",
       "      <td>4.7</td>\n",
       "      <td>3.2</td>\n",
       "      <td>1.3</td>\n",
       "      <td>0.2</td>\n",
       "      <td>Iris-setosa</td>\n",
       "    </tr>\n",
       "    <tr>\n",
       "      <th>3</th>\n",
       "      <td>4</td>\n",
       "      <td>4.6</td>\n",
       "      <td>3.1</td>\n",
       "      <td>1.5</td>\n",
       "      <td>0.2</td>\n",
       "      <td>Iris-setosa</td>\n",
       "    </tr>\n",
       "    <tr>\n",
       "      <th>4</th>\n",
       "      <td>5</td>\n",
       "      <td>5.0</td>\n",
       "      <td>3.6</td>\n",
       "      <td>1.4</td>\n",
       "      <td>0.2</td>\n",
       "      <td>Iris-setosa</td>\n",
       "    </tr>\n",
       "  </tbody>\n",
       "</table>\n",
       "</div>"
      ],
      "text/plain": [
       "   Id  SepalLengthCm  SepalWidthCm  PetalLengthCm  PetalWidthCm      Species\n",
       "0   1            5.1           3.5            1.4           0.2  Iris-setosa\n",
       "1   2            4.9           3.0            1.4           0.2  Iris-setosa\n",
       "2   3            4.7           3.2            1.3           0.2  Iris-setosa\n",
       "3   4            4.6           3.1            1.5           0.2  Iris-setosa\n",
       "4   5            5.0           3.6            1.4           0.2  Iris-setosa"
      ]
     },
     "execution_count": 39,
     "metadata": {},
     "output_type": "execute_result"
    }
   ],
   "source": [
    "df.head()"
   ]
  },
  {
   "cell_type": "code",
   "execution_count": 40,
   "id": "91fa9c1c",
   "metadata": {},
   "outputs": [
    {
     "data": {
      "text/plain": [
       "Index(['Id', 'SepalLengthCm', 'SepalWidthCm', 'PetalLengthCm', 'PetalWidthCm',\n",
       "       'Species'],\n",
       "      dtype='object')"
      ]
     },
     "execution_count": 40,
     "metadata": {},
     "output_type": "execute_result"
    }
   ],
   "source": [
    "df.columns"
   ]
  },
  {
   "cell_type": "code",
   "execution_count": 41,
   "id": "14af2530",
   "metadata": {},
   "outputs": [
    {
     "data": {
      "text/plain": [
       "(150, 6)"
      ]
     },
     "execution_count": 41,
     "metadata": {},
     "output_type": "execute_result"
    }
   ],
   "source": [
    "df.shape"
   ]
  },
  {
   "cell_type": "code",
   "execution_count": 45,
   "id": "5c4e87d3",
   "metadata": {},
   "outputs": [
    {
     "data": {
      "text/plain": [
       "Species\n",
       "Iris-setosa        50\n",
       "Iris-versicolor    50\n",
       "Iris-virginica     50\n",
       "Name: count, dtype: int64"
      ]
     },
     "execution_count": 45,
     "metadata": {},
     "output_type": "execute_result"
    }
   ],
   "source": [
    "df[\"Species\"].value_counts()"
   ]
  },
  {
   "cell_type": "markdown",
   "id": "49e3fb65",
   "metadata": {},
   "source": [
    "## A. For Iris-setosa Species"
   ]
  },
  {
   "cell_type": "code",
   "execution_count": 46,
   "id": "f9efcf76",
   "metadata": {},
   "outputs": [],
   "source": [
    "df_iris_setosa=df[df[\"Species\"]==\"Iris-setosa\"]"
   ]
  },
  {
   "cell_type": "code",
   "execution_count": 48,
   "id": "4d680901",
   "metadata": {},
   "outputs": [
    {
     "data": {
      "text/plain": [
       "(50, 6)"
      ]
     },
     "execution_count": 48,
     "metadata": {},
     "output_type": "execute_result"
    }
   ],
   "source": [
    "df_iris_setosa.shape"
   ]
  },
  {
   "cell_type": "code",
   "execution_count": 54,
   "id": "14b14e95",
   "metadata": {},
   "outputs": [
    {
     "name": "stdout",
     "output_type": "stream",
     "text": [
      "For Petal Lenth: 1.464\n",
      "For Petal Width: 0.244\n"
     ]
    }
   ],
   "source": [
    "#Mean\n",
    "print(\"For Petal Lenth:\",df_iris_setosa[\"PetalLengthCm\"].mean())\n",
    "print(\"For Petal Width:\",df_iris_setosa[\"PetalWidthCm\"].mean())"
   ]
  },
  {
   "cell_type": "code",
   "execution_count": 55,
   "id": "5d1f2712",
   "metadata": {},
   "outputs": [
    {
     "name": "stdout",
     "output_type": "stream",
     "text": [
      "For Petal Lenth: 1.5\n",
      "For Petal Width: 0.2\n"
     ]
    }
   ],
   "source": [
    "#median\n",
    "print(\"For Petal Lenth:\",df_iris_setosa[\"PetalLengthCm\"].median())\n",
    "print(\"For Petal Width:\",df_iris_setosa[\"PetalWidthCm\"].median())"
   ]
  },
  {
   "cell_type": "code",
   "execution_count": 56,
   "id": "3271b080",
   "metadata": {},
   "outputs": [
    {
     "name": "stdout",
     "output_type": "stream",
     "text": [
      "For Petal Lenth: 0    1.5\n",
      "Name: PetalLengthCm, dtype: float64\n",
      "For Petal Width: 0    0.2\n",
      "Name: PetalWidthCm, dtype: float64\n"
     ]
    }
   ],
   "source": [
    "#Mode\n",
    "print(\"For Petal Lenth:\",df_iris_setosa[\"PetalLengthCm\"].mode())\n",
    "print(\"For Petal Width:\",df_iris_setosa[\"PetalWidthCm\"].mode())"
   ]
  },
  {
   "cell_type": "code",
   "execution_count": 67,
   "id": "38871023",
   "metadata": {},
   "outputs": [
    {
     "name": "stdout",
     "output_type": "stream",
     "text": [
      "For Petal Lenth: 0.46991097723995806\n",
      "For Petal Width: 0.197752680004544\n"
     ]
    }
   ],
   "source": [
    "#standard Deviation\n",
    "print(\"For Petal Lenth:\",df_iris_setosa[\"PetalLengthCm\"].std())\n",
    "print(\"For Petal Width:\",df_iris_setosa[\"PetalWidthCm\"].std())"
   ]
  },
  {
   "cell_type": "markdown",
   "id": "9cd93329",
   "metadata": {},
   "source": [
    "# <hr>"
   ]
  },
  {
   "cell_type": "markdown",
   "id": "d4cb1d3a",
   "metadata": {},
   "source": [
    "# B. For Iris-versicolor  Species"
   ]
  },
  {
   "cell_type": "code",
   "execution_count": 58,
   "id": "247e228e",
   "metadata": {},
   "outputs": [],
   "source": [
    "df_iris_versicolor=df[df[\"Species\"]==\"Iris-versicolor\"]"
   ]
  },
  {
   "cell_type": "code",
   "execution_count": 60,
   "id": "6860c822",
   "metadata": {},
   "outputs": [
    {
     "data": {
      "text/html": [
       "<div>\n",
       "<style scoped>\n",
       "    .dataframe tbody tr th:only-of-type {\n",
       "        vertical-align: middle;\n",
       "    }\n",
       "\n",
       "    .dataframe tbody tr th {\n",
       "        vertical-align: top;\n",
       "    }\n",
       "\n",
       "    .dataframe thead th {\n",
       "        text-align: right;\n",
       "    }\n",
       "</style>\n",
       "<table border=\"1\" class=\"dataframe\">\n",
       "  <thead>\n",
       "    <tr style=\"text-align: right;\">\n",
       "      <th></th>\n",
       "      <th>Id</th>\n",
       "      <th>SepalLengthCm</th>\n",
       "      <th>SepalWidthCm</th>\n",
       "      <th>PetalLengthCm</th>\n",
       "      <th>PetalWidthCm</th>\n",
       "      <th>Species</th>\n",
       "    </tr>\n",
       "  </thead>\n",
       "  <tbody>\n",
       "    <tr>\n",
       "      <th>50</th>\n",
       "      <td>51</td>\n",
       "      <td>7.0</td>\n",
       "      <td>3.2</td>\n",
       "      <td>4.7</td>\n",
       "      <td>1.4</td>\n",
       "      <td>Iris-versicolor</td>\n",
       "    </tr>\n",
       "    <tr>\n",
       "      <th>51</th>\n",
       "      <td>52</td>\n",
       "      <td>6.4</td>\n",
       "      <td>3.2</td>\n",
       "      <td>4.5</td>\n",
       "      <td>1.5</td>\n",
       "      <td>Iris-versicolor</td>\n",
       "    </tr>\n",
       "    <tr>\n",
       "      <th>52</th>\n",
       "      <td>53</td>\n",
       "      <td>6.9</td>\n",
       "      <td>3.1</td>\n",
       "      <td>4.9</td>\n",
       "      <td>1.5</td>\n",
       "      <td>Iris-versicolor</td>\n",
       "    </tr>\n",
       "    <tr>\n",
       "      <th>53</th>\n",
       "      <td>54</td>\n",
       "      <td>5.5</td>\n",
       "      <td>2.3</td>\n",
       "      <td>4.0</td>\n",
       "      <td>1.3</td>\n",
       "      <td>Iris-versicolor</td>\n",
       "    </tr>\n",
       "    <tr>\n",
       "      <th>54</th>\n",
       "      <td>55</td>\n",
       "      <td>6.5</td>\n",
       "      <td>2.8</td>\n",
       "      <td>4.6</td>\n",
       "      <td>1.5</td>\n",
       "      <td>Iris-versicolor</td>\n",
       "    </tr>\n",
       "  </tbody>\n",
       "</table>\n",
       "</div>"
      ],
      "text/plain": [
       "    Id  SepalLengthCm  SepalWidthCm  PetalLengthCm  PetalWidthCm  \\\n",
       "50  51            7.0           3.2            4.7           1.4   \n",
       "51  52            6.4           3.2            4.5           1.5   \n",
       "52  53            6.9           3.1            4.9           1.5   \n",
       "53  54            5.5           2.3            4.0           1.3   \n",
       "54  55            6.5           2.8            4.6           1.5   \n",
       "\n",
       "            Species  \n",
       "50  Iris-versicolor  \n",
       "51  Iris-versicolor  \n",
       "52  Iris-versicolor  \n",
       "53  Iris-versicolor  \n",
       "54  Iris-versicolor  "
      ]
     },
     "execution_count": 60,
     "metadata": {},
     "output_type": "execute_result"
    }
   ],
   "source": [
    "df_iris_versicolor.head()"
   ]
  },
  {
   "cell_type": "code",
   "execution_count": 61,
   "id": "389a2f20",
   "metadata": {},
   "outputs": [
    {
     "data": {
      "text/plain": [
       "(50, 6)"
      ]
     },
     "execution_count": 61,
     "metadata": {},
     "output_type": "execute_result"
    }
   ],
   "source": [
    "df_iris_versicolor.shape"
   ]
  },
  {
   "cell_type": "code",
   "execution_count": 63,
   "id": "4b21144c",
   "metadata": {},
   "outputs": [
    {
     "name": "stdout",
     "output_type": "stream",
     "text": [
      "For Petal Length: 4.26\n",
      "For Petal Width: 1.3259999999999998\n"
     ]
    }
   ],
   "source": [
    "#mean\n",
    "print(\"For Petal Length:\",df_iris_versicolor[\"PetalLengthCm\"].mean())\n",
    "print(\"For Petal Width:\",df_iris_versicolor[\"PetalWidthCm\"].mean())"
   ]
  },
  {
   "cell_type": "code",
   "execution_count": 64,
   "id": "6977f91c",
   "metadata": {},
   "outputs": [
    {
     "name": "stdout",
     "output_type": "stream",
     "text": [
      "For Petal Length: 4.35\n",
      "For Petal Width: 1.3\n"
     ]
    }
   ],
   "source": [
    "#Median\n",
    "print(\"For Petal Length:\",df_iris_versicolor[\"PetalLengthCm\"].median())\n",
    "print(\"For Petal Width:\",df_iris_versicolor[\"PetalWidthCm\"].median())"
   ]
  },
  {
   "cell_type": "code",
   "execution_count": 65,
   "id": "e3a28aa0",
   "metadata": {},
   "outputs": [
    {
     "name": "stdout",
     "output_type": "stream",
     "text": [
      "For Petal Length: 0    4.5\n",
      "Name: PetalLengthCm, dtype: float64\n",
      "For Petal Width: 0    1.3\n",
      "Name: PetalWidthCm, dtype: float64\n"
     ]
    }
   ],
   "source": [
    "#Mode\n",
    "print(\"For Petal Length:\",df_iris_versicolor[\"PetalLengthCm\"].mode())\n",
    "print(\"For Petal Width:\",df_iris_versicolor[\"PetalWidthCm\"].mode())"
   ]
  },
  {
   "cell_type": "code",
   "execution_count": 66,
   "id": "68f972e6",
   "metadata": {},
   "outputs": [
    {
     "name": "stdout",
     "output_type": "stream",
     "text": [
      "For Petal Length: 0.46991097723995806\n",
      "For Petal Width: 0.197752680004544\n"
     ]
    }
   ],
   "source": [
    "#Standard Devation\n",
    "print(\"For Petal Length:\",df_iris_versicolor[\"PetalLengthCm\"].std())\n",
    "print(\"For Petal Width:\",df_iris_versicolor[\"PetalWidthCm\"].std())"
   ]
  },
  {
   "cell_type": "markdown",
   "id": "7ee5a576",
   "metadata": {},
   "source": [
    "## <hr>"
   ]
  },
  {
   "cell_type": "markdown",
   "id": "f2dd6bf4",
   "metadata": {},
   "source": [
    "# C.For Iris-virginica Species"
   ]
  },
  {
   "cell_type": "code",
   "execution_count": 73,
   "id": "fec1f9de",
   "metadata": {},
   "outputs": [],
   "source": [
    "df_iris_virginica=df[df[\"Species\"]==\"Iris-virginica\"]"
   ]
  },
  {
   "cell_type": "code",
   "execution_count": 74,
   "id": "8030c608",
   "metadata": {},
   "outputs": [
    {
     "data": {
      "text/html": [
       "<div>\n",
       "<style scoped>\n",
       "    .dataframe tbody tr th:only-of-type {\n",
       "        vertical-align: middle;\n",
       "    }\n",
       "\n",
       "    .dataframe tbody tr th {\n",
       "        vertical-align: top;\n",
       "    }\n",
       "\n",
       "    .dataframe thead th {\n",
       "        text-align: right;\n",
       "    }\n",
       "</style>\n",
       "<table border=\"1\" class=\"dataframe\">\n",
       "  <thead>\n",
       "    <tr style=\"text-align: right;\">\n",
       "      <th></th>\n",
       "      <th>Id</th>\n",
       "      <th>SepalLengthCm</th>\n",
       "      <th>SepalWidthCm</th>\n",
       "      <th>PetalLengthCm</th>\n",
       "      <th>PetalWidthCm</th>\n",
       "      <th>Species</th>\n",
       "    </tr>\n",
       "  </thead>\n",
       "  <tbody>\n",
       "    <tr>\n",
       "      <th>100</th>\n",
       "      <td>101</td>\n",
       "      <td>6.3</td>\n",
       "      <td>3.3</td>\n",
       "      <td>6.0</td>\n",
       "      <td>2.5</td>\n",
       "      <td>Iris-virginica</td>\n",
       "    </tr>\n",
       "    <tr>\n",
       "      <th>101</th>\n",
       "      <td>102</td>\n",
       "      <td>5.8</td>\n",
       "      <td>2.7</td>\n",
       "      <td>5.1</td>\n",
       "      <td>1.9</td>\n",
       "      <td>Iris-virginica</td>\n",
       "    </tr>\n",
       "    <tr>\n",
       "      <th>102</th>\n",
       "      <td>103</td>\n",
       "      <td>7.1</td>\n",
       "      <td>3.0</td>\n",
       "      <td>5.9</td>\n",
       "      <td>2.1</td>\n",
       "      <td>Iris-virginica</td>\n",
       "    </tr>\n",
       "    <tr>\n",
       "      <th>103</th>\n",
       "      <td>104</td>\n",
       "      <td>6.3</td>\n",
       "      <td>2.9</td>\n",
       "      <td>5.6</td>\n",
       "      <td>1.8</td>\n",
       "      <td>Iris-virginica</td>\n",
       "    </tr>\n",
       "    <tr>\n",
       "      <th>104</th>\n",
       "      <td>105</td>\n",
       "      <td>6.5</td>\n",
       "      <td>3.0</td>\n",
       "      <td>5.8</td>\n",
       "      <td>2.2</td>\n",
       "      <td>Iris-virginica</td>\n",
       "    </tr>\n",
       "  </tbody>\n",
       "</table>\n",
       "</div>"
      ],
      "text/plain": [
       "      Id  SepalLengthCm  SepalWidthCm  PetalLengthCm  PetalWidthCm  \\\n",
       "100  101            6.3           3.3            6.0           2.5   \n",
       "101  102            5.8           2.7            5.1           1.9   \n",
       "102  103            7.1           3.0            5.9           2.1   \n",
       "103  104            6.3           2.9            5.6           1.8   \n",
       "104  105            6.5           3.0            5.8           2.2   \n",
       "\n",
       "            Species  \n",
       "100  Iris-virginica  \n",
       "101  Iris-virginica  \n",
       "102  Iris-virginica  \n",
       "103  Iris-virginica  \n",
       "104  Iris-virginica  "
      ]
     },
     "execution_count": 74,
     "metadata": {},
     "output_type": "execute_result"
    }
   ],
   "source": [
    "df_iris_virginica.head()"
   ]
  },
  {
   "cell_type": "code",
   "execution_count": 76,
   "id": "9fa8926e",
   "metadata": {},
   "outputs": [
    {
     "data": {
      "text/plain": [
       "(50, 6)"
      ]
     },
     "execution_count": 76,
     "metadata": {},
     "output_type": "execute_result"
    }
   ],
   "source": [
    "df_iris_verginica.shape"
   ]
  },
  {
   "cell_type": "code",
   "execution_count": 77,
   "id": "dfe94a59",
   "metadata": {},
   "outputs": [
    {
     "name": "stdout",
     "output_type": "stream",
     "text": [
      "For Petal Length: 5.5520000000000005\n",
      "For Petal Width: 2.0260000000000002\n"
     ]
    }
   ],
   "source": [
    "#mean\n",
    "print(\"For Petal Length:\",df_iris_virginica[\"PetalLengthCm\"].mean())\n",
    "print(\"For Petal Width:\",df_iris_virginica[\"PetalWidthCm\"].mean())"
   ]
  },
  {
   "cell_type": "code",
   "execution_count": 78,
   "id": "ecde9e2e",
   "metadata": {},
   "outputs": [
    {
     "name": "stdout",
     "output_type": "stream",
     "text": [
      "For Petal Length: 5.55\n",
      "For Petal Width: 2.0\n"
     ]
    }
   ],
   "source": [
    "#median\n",
    "print(\"For Petal Length:\",df_iris_virginica[\"PetalLengthCm\"].median())\n",
    "print(\"For Petal Width:\",df_iris_virginica[\"PetalWidthCm\"].median())"
   ]
  },
  {
   "cell_type": "code",
   "execution_count": 79,
   "id": "5616630b",
   "metadata": {},
   "outputs": [
    {
     "name": "stdout",
     "output_type": "stream",
     "text": [
      "For Petal Length: 0    5.1\n",
      "Name: PetalLengthCm, dtype: float64\n",
      "For Petal Width: 0    1.8\n",
      "Name: PetalWidthCm, dtype: float64\n"
     ]
    }
   ],
   "source": [
    "#mode\n",
    "print(\"For Petal Length:\",df_iris_virginica[\"PetalLengthCm\"].mode())\n",
    "print(\"For Petal Width:\",df_iris_virginica[\"PetalWidthCm\"].mode())"
   ]
  },
  {
   "cell_type": "code",
   "execution_count": 80,
   "id": "3522ed0c",
   "metadata": {},
   "outputs": [
    {
     "name": "stdout",
     "output_type": "stream",
     "text": [
      "For Petal Length: 0.5518946956639835\n",
      "For Petal Width: 0.27465005563666733\n"
     ]
    }
   ],
   "source": [
    "#Standard Deviation\n",
    "print(\"For Petal Length:\",df_iris_virginica[\"PetalLengthCm\"].std())\n",
    "print(\"For Petal Width:\",df_iris_virginica[\"PetalWidthCm\"].std())"
   ]
  },
  {
   "cell_type": "markdown",
   "id": "3bdafe6f",
   "metadata": {},
   "source": [
    "# <hr>"
   ]
  }
 ],
 "metadata": {
  "kernelspec": {
   "display_name": "Python 3 (ipykernel)",
   "language": "python",
   "name": "python3"
  },
  "language_info": {
   "codemirror_mode": {
    "name": "ipython",
    "version": 3
   },
   "file_extension": ".py",
   "mimetype": "text/x-python",
   "name": "python",
   "nbconvert_exporter": "python",
   "pygments_lexer": "ipython3",
   "version": "3.11.3"
  }
 },
 "nbformat": 4,
 "nbformat_minor": 5
}
